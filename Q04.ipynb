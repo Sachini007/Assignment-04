{
  "nbformat": 4,
  "nbformat_minor": 0,
  "metadata": {
    "colab": {
      "name": "Q04.ipynb",
      "provenance": []
    },
    "kernelspec": {
      "name": "python3",
      "display_name": "Python 3"
    },
    "language_info": {
      "name": "python"
    },
    "accelerator": "GPU"
  },
  "cells": [
    {
      "cell_type": "code",
      "metadata": {
        "colab": {
          "base_uri": "https://localhost:8080/"
        },
        "id": "ABvokEgq9-xh",
        "outputId": "27546418-6fd0-46d2-e3fb-eb0160cb0b1a"
      },
      "source": [
        "import tensorflow as tf\n",
        "from tensorflow import keras\n",
        "import numpy as np\n",
        "import matplotlib.pyplot as plt\n",
        "\n",
        "\n",
        "(x_train, y_train), (x_test, y_test) = keras.datasets.cifar10.load_data()\n",
        "print('x_train:', x_train.shape)\n",
        "x_train, x_test = x_train / 255.0, x_test / 255.0\n",
        "K = len(np.unique(y_train)) # Classes\n",
        "Ntr = x_train.shape[0]\n",
        "Nte = x_test.shape[0]\n",
        "Din = 3072 # CIFAR10\n",
        "\n",
        "mean_image = np.mean(x_train, axis=0)\n",
        "x_train = x_train - mean_image\n",
        "x_test = x_test - mean_image\n",
        "y_train = tf.keras.utils.to_categorical(y_train, num_classes=K)\n",
        "y_test = tf.keras.utils.to_categorical(y_test, num_classes=K)\n"
      ],
      "execution_count": 1,
      "outputs": [
        {
          "output_type": "stream",
          "text": [
            "Downloading data from https://www.cs.toronto.edu/~kriz/cifar-10-python.tar.gz\n",
            "170500096/170498071 [==============================] - 2s 0us/step\n",
            "x_train: (50000, 32, 32, 3)\n"
          ],
          "name": "stdout"
        }
      ]
    },
    {
      "cell_type": "code",
      "metadata": {
        "id": "fP-cCkRi-PHx"
      },
      "source": [
        "model = tf.keras.models.Sequential([\n",
        "    # first convolution\n",
        "    tf.keras.layers.Conv2D(32, (3,3), activation='relu', input_shape=(32, 32, 3)),\n",
        "    tf.keras.layers.MaxPooling2D(2, 2),\n",
        "    # The second convolution\n",
        "    tf.keras.layers.Conv2D(64, (3,3), activation='relu'),\n",
        "    tf.keras.layers.MaxPooling2D(2,2),\n",
        "    # The third convolution\n",
        "    tf.keras.layers.Conv2D(64, (3,3), activation='relu'),\n",
        "    tf.keras.layers.MaxPooling2D(2,2),\n",
        "    # Flatten the results to feed into a DNN\n",
        "    tf.keras.layers.Flatten(),\n",
        "    # 512 neuron hidden layer\n",
        "    tf.keras.layers.Dense(64, activation='relu'),\n",
        "    tf.keras.layers.Dense(10, activation='softmax')\n",
        "])"
      ],
      "execution_count": 2,
      "outputs": []
    },
    {
      "cell_type": "code",
      "metadata": {
        "colab": {
          "base_uri": "https://localhost:8080/"
        },
        "id": "q9roUDTH-u2t",
        "outputId": "800c7f68-e64f-4dd2-eb81-c2a3ae136a55"
      },
      "source": [
        "model.summary()"
      ],
      "execution_count": 3,
      "outputs": [
        {
          "output_type": "stream",
          "text": [
            "Model: \"sequential\"\n",
            "_________________________________________________________________\n",
            "Layer (type)                 Output Shape              Param #   \n",
            "=================================================================\n",
            "conv2d (Conv2D)              (None, 30, 30, 32)        896       \n",
            "_________________________________________________________________\n",
            "max_pooling2d (MaxPooling2D) (None, 15, 15, 32)        0         \n",
            "_________________________________________________________________\n",
            "conv2d_1 (Conv2D)            (None, 13, 13, 64)        18496     \n",
            "_________________________________________________________________\n",
            "max_pooling2d_1 (MaxPooling2 (None, 6, 6, 64)          0         \n",
            "_________________________________________________________________\n",
            "conv2d_2 (Conv2D)            (None, 4, 4, 64)          36928     \n",
            "_________________________________________________________________\n",
            "max_pooling2d_2 (MaxPooling2 (None, 2, 2, 64)          0         \n",
            "_________________________________________________________________\n",
            "flatten (Flatten)            (None, 256)               0         \n",
            "_________________________________________________________________\n",
            "dense (Dense)                (None, 64)                16448     \n",
            "_________________________________________________________________\n",
            "dense_1 (Dense)              (None, 10)                650       \n",
            "=================================================================\n",
            "Total params: 73,418\n",
            "Trainable params: 73,418\n",
            "Non-trainable params: 0\n",
            "_________________________________________________________________\n"
          ],
          "name": "stdout"
        }
      ]
    },
    {
      "cell_type": "code",
      "metadata": {
        "id": "saeNQV6K-xm-"
      },
      "source": [
        "from tensorflow.keras.optimizers import SGD\n",
        "\n",
        "model.compile(loss='categorical_crossentropy',\n",
        "              optimizer=SGD(lr=0.01, momentum = 0.9),\n",
        "              metrics=['accuracy'])"
      ],
      "execution_count": 4,
      "outputs": []
    },
    {
      "cell_type": "code",
      "metadata": {
        "colab": {
          "base_uri": "https://localhost:8080/"
        },
        "id": "n6vkVoAl_bNQ",
        "outputId": "4220999e-817b-423b-c84b-0504052d2ed6"
      },
      "source": [
        "history = model.fit(x_train, y_train, batch_size=50, epochs=15,validation_split=0.1)"
      ],
      "execution_count": 5,
      "outputs": [
        {
          "output_type": "stream",
          "text": [
            "Epoch 1/15\n",
            "900/900 [==============================] - 35s 5ms/step - loss: 1.9685 - accuracy: 0.2695 - val_loss: 1.4196 - val_accuracy: 0.4928\n",
            "Epoch 2/15\n",
            "900/900 [==============================] - 4s 4ms/step - loss: 1.3307 - accuracy: 0.5246 - val_loss: 1.1510 - val_accuracy: 0.5992\n",
            "Epoch 3/15\n",
            "900/900 [==============================] - 4s 4ms/step - loss: 1.1088 - accuracy: 0.6071 - val_loss: 1.0561 - val_accuracy: 0.6312\n",
            "Epoch 4/15\n",
            "900/900 [==============================] - 4s 4ms/step - loss: 0.9889 - accuracy: 0.6540 - val_loss: 0.9429 - val_accuracy: 0.6696\n",
            "Epoch 5/15\n",
            "900/900 [==============================] - 4s 4ms/step - loss: 0.8747 - accuracy: 0.6916 - val_loss: 0.8954 - val_accuracy: 0.6816\n",
            "Epoch 6/15\n",
            "900/900 [==============================] - 4s 4ms/step - loss: 0.7877 - accuracy: 0.7239 - val_loss: 0.9103 - val_accuracy: 0.6890\n",
            "Epoch 7/15\n",
            "900/900 [==============================] - 4s 4ms/step - loss: 0.7285 - accuracy: 0.7449 - val_loss: 0.8698 - val_accuracy: 0.7072\n",
            "Epoch 8/15\n",
            "900/900 [==============================] - 4s 4ms/step - loss: 0.6823 - accuracy: 0.7608 - val_loss: 0.8761 - val_accuracy: 0.6974\n",
            "Epoch 9/15\n",
            "900/900 [==============================] - 4s 4ms/step - loss: 0.6298 - accuracy: 0.7809 - val_loss: 0.8641 - val_accuracy: 0.7092\n",
            "Epoch 10/15\n",
            "900/900 [==============================] - 4s 4ms/step - loss: 0.5994 - accuracy: 0.7903 - val_loss: 0.8767 - val_accuracy: 0.7140\n",
            "Epoch 11/15\n",
            "900/900 [==============================] - 4s 4ms/step - loss: 0.5428 - accuracy: 0.8093 - val_loss: 0.8382 - val_accuracy: 0.7218\n",
            "Epoch 12/15\n",
            "900/900 [==============================] - 4s 4ms/step - loss: 0.5094 - accuracy: 0.8203 - val_loss: 0.9694 - val_accuracy: 0.7030\n",
            "Epoch 13/15\n",
            "900/900 [==============================] - 4s 4ms/step - loss: 0.4766 - accuracy: 0.8310 - val_loss: 0.9426 - val_accuracy: 0.7122\n",
            "Epoch 14/15\n",
            "900/900 [==============================] - 4s 4ms/step - loss: 0.4500 - accuracy: 0.8414 - val_loss: 0.9067 - val_accuracy: 0.7246\n",
            "Epoch 15/15\n",
            "900/900 [==============================] - 4s 4ms/step - loss: 0.4189 - accuracy: 0.8514 - val_loss: 0.9142 - val_accuracy: 0.7178\n"
          ],
          "name": "stdout"
        }
      ]
    },
    {
      "cell_type": "code",
      "metadata": {
        "id": "NhhNV4J4_l2n"
      },
      "source": [
        "def plot_model_history(model_history):\n",
        "    fig, axs = plt.subplots(1,2,figsize=(15,5))\n",
        "    # summarize history for accuracy\n",
        "    axs[0].plot(range(1,len(model_history.history['accuracy'])+1), \n",
        "                model_history.history['accuracy'])\n",
        "    axs[0].plot(range(1,len(model_history.history['val_accuracy'])+1), \n",
        "                model_history.history['val_accuracy'])\n",
        "    axs[0].set_title('Model Accuracy')\n",
        "    axs[0].set_ylabel('Accuracy')\n",
        "    axs[0].set_xlabel('Epoch')\n",
        "    axs[0].set_xticks(np.arange(1,len(model_history.history['accuracy'])+1),\n",
        "                      len(model_history.history['accuracy'])/10)\n",
        "    axs[0].legend(['train', 'val'], loc='best')\n",
        "    # summarize history for loss\n",
        "    axs[1].plot(range(1,len(model_history.history['loss'])+1),\n",
        "                model_history.history['loss'])\n",
        "    axs[1].plot(range(1,len(model_history.history['val_loss'])+1), \n",
        "                model_history.history['val_loss'])\n",
        "    axs[1].set_title('Model Loss')\n",
        "    axs[1].set_ylabel('Loss')\n",
        "    axs[1].set_xlabel('Epoch')\n",
        "    axs[1].set_xticks(np.arange(1,len(model_history.history['loss'])+1),\n",
        "                      len(model_history.history['loss'])/10)\n",
        "    axs[1].legend(['train', 'val'], loc='best')\n",
        "    plt.show()"
      ],
      "execution_count": 6,
      "outputs": []
    },
    {
      "cell_type": "code",
      "metadata": {
        "colab": {
          "base_uri": "https://localhost:8080/",
          "height": 421
        },
        "id": "394vykY_E2hz",
        "outputId": "6cd77aac-3870-44f6-cf94-fe60cf349e50"
      },
      "source": [
        "plot_model_history(history)"
      ],
      "execution_count": 7,
      "outputs": [
        {
          "output_type": "stream",
          "text": [
            "/usr/local/lib/python3.7/dist-packages/ipykernel_launcher.py:12: MatplotlibDeprecationWarning: Passing the minor parameter of set_xticks() positionally is deprecated since Matplotlib 3.2; the parameter will become keyword-only two minor releases later.\n",
            "  if sys.path[0] == '':\n",
            "/usr/local/lib/python3.7/dist-packages/ipykernel_launcher.py:23: MatplotlibDeprecationWarning: Passing the minor parameter of set_xticks() positionally is deprecated since Matplotlib 3.2; the parameter will become keyword-only two minor releases later.\n"
          ],
          "name": "stderr"
        },
        {
          "output_type": "display_data",
          "data": {
            "image/png": "[encoded data removed]",
            "text/plain": [
              "<Figure size 1080x360 with 2 Axes>"
            ]
          },
          "metadata": {
            "tags": [],
            "needs_background": "light"
          }
        }
      ]
    },
    {
      "cell_type": "code",
      "metadata": {
        "colab": {
          "base_uri": "https://localhost:8080/"
        },
        "id": "JdfP5zrVFOAi",
        "outputId": "8725e4ce-d225-4823-bbb5-8b1c24509df5"
      },
      "source": [
        "test_loss, test_acc = model.evaluate(x_test, y_test)\n",
        "print(test_acc)"
      ],
      "execution_count": 8,
      "outputs": [
        {
          "output_type": "stream",
          "text": [
            "313/313 [==============================] - 1s 3ms/step - loss: 0.9726 - accuracy: 0.7032\n",
            "0.7031999826431274\n"
          ],
          "name": "stdout"
        }
      ]
    },
    {
      "cell_type": "code",
      "metadata": {
        "id": "HwO7FpKdFbJX"
      },
      "source": [
        ""
      ],
      "execution_count": null,
      "outputs": []
    }
  ]
}